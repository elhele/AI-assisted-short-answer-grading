{
 "cells": [
  {
   "cell_type": "markdown",
   "metadata": {},
   "source": [
    "Before you turn this problem in, make sure everything runs as expected. First, **restart the kernel** (in the menubar, select Kernel$\\rightarrow$Restart) and then **run all cells** (in the menubar, select Cell$\\rightarrow$Run All).\n",
    "\n",
    "Make sure you fill in any place that says `YOUR CODE HERE` or \"YOUR ANSWER HERE\", as well as your name and collaborators below:"
   ]
  },
  {
   "cell_type": "code",
   "execution_count": 1,
   "metadata": {},
   "outputs": [],
   "source": [
    "NAME = \"Max Gutbier\"\n",
    "COLLABORATORS = \"\""
   ]
  },
  {
   "cell_type": "markdown",
   "metadata": {},
   "source": [
    "---"
   ]
  },
  {
   "cell_type": "markdown",
   "metadata": {},
   "source": [
    "---\n",
    "## Aufgabe 1 (6 Punkte)\n",
    "\n",
    "Nenne 6 Teilbereiche der Physik!\n"
   ]
  },
  {
   "cell_type": "markdown",
   "metadata": {
    "deletable": false,
    "nbgrader": {
     "checksum": "a05427600f1ea97356023283d54670b6",
     "grade": true,
     "grade_id": "cell-595ee723f75ca4ab",
     "locked": false,
     "points": 6,
     "schema_version": 1,
     "solution": true
    }
   },
   "source": [
    "Mechanik, Akustik, Magnetismus, Elektrizität, Optik, Atomphysik"
   ]
  },
  {
   "cell_type": "markdown",
   "metadata": {},
   "source": [
    "---\n",
    "## Aufgabe 2 (3 Punkte)\n",
    "\n",
    "Gib drei Beispiele an, die zeigen, dass die Erkenntnisse der Physik für den Menschen nutzbar gemacht werden können.\n"
   ]
  },
  {
   "cell_type": "markdown",
   "metadata": {
    "deletable": false,
    "nbgrader": {
     "checksum": "b8392ba470398a2dd81fa1654ac663a0",
     "grade": true,
     "grade_id": "cell-174a6c14d7db1673",
     "locked": false,
     "points": 3,
     "schema_version": 1,
     "solution": true
    }
   },
   "source": [
    "1) Die Benützung einer Lupe, um etwas größer zu sehen.\n",
    "\n",
    "2) Die Erzeugung von elektrischem Strom in Wasserkraftwerken.\n",
    "\n",
    "3) Die Benützung eines Kompasses zur Orientierung."
   ]
  },
  {
   "cell_type": "markdown",
   "metadata": {},
   "source": [
    "---\n",
    "## Aufgabe 3 (2 Punkte)\n",
    "Ergänze: Der geografische\n",
    "Nordpol der Erde ist ein\n",
    "magnetischer ...........\n",
    "der geografische Südpol der\n",
    "Erde ist ein\n",
    "magnetischer ...............\n"
   ]
  },
  {
   "cell_type": "markdown",
   "metadata": {
    "deletable": false,
    "nbgrader": {
     "checksum": "813ba088cc569b22ee0e00cba6b23cb2",
     "grade": true,
     "grade_id": "cell-0e609bc0dfa149a2",
     "locked": false,
     "points": 2,
     "schema_version": 1,
     "solution": true
    }
   },
   "source": [
    "Der geografische Nordpol der Erde ist ein magnetischer Südpol.\n",
    "\n",
    "der geografische Südpol der Erde ist ein magnetischer Nordpol."
   ]
  },
  {
   "cell_type": "markdown",
   "metadata": {},
   "source": [
    "## Aufgabe 4 (3 Punkte)\n",
    "\n",
    "Woraus besteht jedes Atom?"
   ]
  },
  {
   "cell_type": "markdown",
   "metadata": {
    "deletable": false,
    "nbgrader": {
     "checksum": "c5648741442194f13c164221c51a085d",
     "grade": true,
     "grade_id": "cell-0aba32582328c6dd",
     "locked": false,
     "points": 3,
     "schema_version": 1,
     "solution": true
    }
   },
   "source": [
    "YOUR ANSWER HERE"
   ]
  },
  {
   "cell_type": "markdown",
   "metadata": {},
   "source": [
    "## Aufgabe 5 (2 Punkte)\n",
    "\n",
    "Ein Körper bewegt sich gleichmäßig beschleunigt und erreicht in der Zeit 12,0s eine Geschwindigkeit von 72,0 $\\frac{m}{s}$. Berechne die Beschleunigung a des Körpers."
   ]
  },
  {
   "cell_type": "markdown",
   "metadata": {
    "deletable": false,
    "nbgrader": {
     "checksum": "5d89d60bacc05fc951a6b14f839564f8",
     "grade": true,
     "grade_id": "cell-7d67a47726dd46ae",
     "locked": false,
     "points": 2,
     "schema_version": 1,
     "solution": true
    }
   },
   "source": [
    "$a = \\frac{v}{t} \\Rightarrow a = \\frac{{72,0\\frac{{\\rm{m}}}{{\\rm{s}}}}}{{12,0{\\rm{s}}}} = 6,00\\frac{{\\rm{m}}}{{{{\\rm{s}}^{\\rm{2}}}}}$"
   ]
  },
  {
   "cell_type": "markdown",
   "metadata": {},
   "source": [
    "## Bonusaufgabe 6 (+1 Punkte)\n",
    "\n",
    "Erstelle ein Python-Programm, das die Beschleunigung des Körpers von Zeit und Geschwindigkeit berechnen kann."
   ]
  },
  {
   "cell_type": "code",
   "execution_count": 2,
   "metadata": {
    "deletable": false,
    "nbgrader": {
     "checksum": "0e8dcda0daef9ab395eae7e98c084bc9",
     "grade": false,
     "grade_id": "cell-e32eab35f8b5279a",
     "locked": false,
     "schema_version": 1,
     "solution": true
    }
   },
   "outputs": [],
   "source": [
    "def beschleunigung(zeit, geschwindigkeit):\n",
    "    ### BEGIN SOLUTION\n",
    "    if zeit < 1:\n",
    "        raise ValueError(\"Die Zeit kann nicht negativ sein\")\n",
    "    return geschwindigkeit/zeit\n",
    "    ### END SOLUTION"
   ]
  },
  {
   "cell_type": "code",
   "execution_count": 3,
   "metadata": {
    "deletable": false,
    "editable": false,
    "nbgrader": {
     "checksum": "84c44c054ea151511358b97ee34006bb",
     "grade": true,
     "grade_id": "cell-c08ada6e138ae0da",
     "locked": true,
     "points": 1,
     "schema_version": 1,
     "solution": false
    }
   },
   "outputs": [],
   "source": [
    "\"\"\"Tests\"\"\"\n",
    "assert beschleunigung(10,20) == 2.0\n",
    "\n",
    "### BEGIN HIDDEN TESTS \n",
    "assert beschleunigung(10,-20) == -2.0\n",
    "### END HIDDEN TESTS"
   ]
  }
 ],
 "metadata": {
  "kernelspec": {
   "display_name": "Python 3",
   "language": "python",
   "name": "python3"
  },
  "language_info": {
   "codemirror_mode": {
    "name": "ipython",
    "version": 3
   },
   "file_extension": ".py",
   "mimetype": "text/x-python",
   "name": "python",
   "nbconvert_exporter": "python",
   "pygments_lexer": "ipython3",
   "version": "3.6.3"
  }
 },
 "nbformat": 4,
 "nbformat_minor": 2
}
